{
 "cells": [
  {
   "cell_type": "code",
   "execution_count": 2,
   "metadata": {},
   "outputs": [
    {
     "name": "stdout",
     "output_type": "stream",
     "text": [
      "Costruttore invocato\n",
      "Animal: None 4\n",
      "Animal: Topolino 4\n"
     ]
    }
   ],
   "source": [
    "class Animal(object):\n",
    "    def __init__(self, age):\n",
    "        print(\"Costruttore invocato\")\n",
    "        self.age=age\n",
    "        self.name=None\n",
    "    def get_age(self):\n",
    "        return self.age\n",
    "    def get_nome(self):\n",
    "        return self.nome\n",
    "    def set_age(self,age):\n",
    "        self.age=age\n",
    "    def set_nome(self,nome):\n",
    "        self.name=nome\n",
    "    def __str__(self):\n",
    "        return \"Animal: \"+str(self.name)+\" \"+str(self.age)\n",
    "    \n",
    "a = Animal(4)\n",
    "print(a)\n",
    "a.set_nome(\"Topolino\")\n",
    "print(a)"
   ]
  }
 ],
 "metadata": {
  "kernelspec": {
   "display_name": "Python 3",
   "language": "python",
   "name": "python3"
  },
  "language_info": {
   "codemirror_mode": {
    "name": "ipython",
    "version": 3
   },
   "file_extension": ".py",
   "mimetype": "text/x-python",
   "name": "python",
   "nbconvert_exporter": "python",
   "pygments_lexer": "ipython3",
   "version": "3.10.11"
  },
  "orig_nbformat": 4
 },
 "nbformat": 4,
 "nbformat_minor": 2
}
