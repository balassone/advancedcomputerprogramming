{
 "cells": [
  {
   "cell_type": "code",
   "execution_count": 1,
   "id": "944fda3f",
   "metadata": {},
   "outputs": [
    {
     "data": {
      "text/plain": [
       "79.4"
      ]
     },
     "execution_count": 1,
     "metadata": {},
     "output_type": "execute_result"
    }
   ],
   "source": [
    "import statistics\n",
    "\n",
    "\n",
    "grades = [85, 93, 45, 89, 85]\n",
    "sum(grades) / len(grades)\n",
    "\n",
    "statistics.median(grades)\n",
    "statistics.mode(grades)\n",
    "statistics.mean(grades)"
   ]
  },
  {
   "cell_type": "code",
   "execution_count": 2,
   "id": "d37ad32c",
   "metadata": {},
   "outputs": [
    {
     "data": {
      "text/plain": [
       "array([ 2,  3,  5,  7, 11])"
      ]
     },
     "execution_count": 2,
     "metadata": {},
     "output_type": "execute_result"
    }
   ],
   "source": [
    "### NumPy\n",
    "\n",
    "import numpy as np \n",
    "numbers = np.array([2, 3, 5, 7, 11]) \n",
    "numbers"
   ]
  },
  {
   "cell_type": "code",
   "execution_count": 3,
   "id": "0ef8fc9c",
   "metadata": {},
   "outputs": [
    {
     "data": {
      "text/plain": [
       "numpy.ndarray"
      ]
     },
     "execution_count": 3,
     "metadata": {},
     "output_type": "execute_result"
    }
   ],
   "source": [
    "type(numbers)"
   ]
  },
  {
   "cell_type": "code",
   "execution_count": 4,
   "id": "efe1b88a",
   "metadata": {},
   "outputs": [
    {
     "data": {
      "text/plain": [
       "array([[1, 2, 3],\n",
       "       [4, 5, 6]])"
      ]
     },
     "execution_count": 4,
     "metadata": {},
     "output_type": "execute_result"
    }
   ],
   "source": [
    "## array multidimensionali\n",
    "multidim_arr = np.array([[1, 2, 3], [4, 5, 6]])\n",
    "multidim_arr"
   ]
  },
  {
   "cell_type": "code",
   "execution_count": 5,
   "id": "eb97e278",
   "metadata": {},
   "outputs": [
    {
     "data": {
      "text/plain": [
       "dtype('int64')"
      ]
     },
     "execution_count": 5,
     "metadata": {},
     "output_type": "execute_result"
    }
   ],
   "source": [
    "## dtype\n",
    "\n",
    "integers = np.array([[1, 2, 3], [4, 5, 6]])\n",
    "integers.dtype"
   ]
  },
  {
   "cell_type": "code",
   "execution_count": 6,
   "id": "7eb4e821",
   "metadata": {},
   "outputs": [
    {
     "data": {
      "text/plain": [
       "dtype('float64')"
      ]
     },
     "execution_count": 6,
     "metadata": {},
     "output_type": "execute_result"
    }
   ],
   "source": [
    "floats = np.array([0.0, 0.1, 0.2, 0.3, 0.4])\n",
    "floats.dtype"
   ]
  },
  {
   "cell_type": "code",
   "execution_count": 7,
   "id": "73fc524a",
   "metadata": {},
   "outputs": [
    {
     "name": "stdout",
     "output_type": "stream",
     "text": [
      "ndim: per integers:  2\n",
      "ndim per floats:  1\n",
      "shape: per integers:  (2, 3)\n",
      "shape per floats:  (5,)\n"
     ]
    }
   ],
   "source": [
    "## ndim e shape\n",
    "print(\"ndim: per integers: \", integers.ndim)\n",
    "print(\"ndim per floats: \", floats.ndim)\n",
    "\n",
    "print(\"shape: per integers: \", integers.shape)\n",
    "print(\"shape per floats: \", floats.shape)\n",
    "\n",
    "\n"
   ]
  },
  {
   "cell_type": "code",
   "execution_count": 8,
   "id": "a221fb98",
   "metadata": {},
   "outputs": [
    {
     "name": "stdout",
     "output_type": "stream",
     "text": [
      "6\n",
      "8\n",
      "5\n",
      "8\n"
     ]
    }
   ],
   "source": [
    "## size e itemsize\n",
    "\n",
    "print(integers.size)\n",
    "print(integers.itemsize)  # 4 if C compiler uses 32-bit ints\n",
    "print(floats.size)\n",
    "print(floats.itemsize)\n",
    "\n"
   ]
  },
  {
   "cell_type": "code",
   "execution_count": 9,
   "id": "ba12aeaf",
   "metadata": {},
   "outputs": [
    {
     "name": "stdout",
     "output_type": "stream",
     "text": [
      "uso classico di iterare su array\n",
      "1 2 3 \n",
      "4 5 6 \n",
      "sfrutto l'attributo flat\n",
      "1\n",
      "2\n",
      "3\n",
      "4\n",
      "5\n",
      "6\n"
     ]
    }
   ],
   "source": [
    "## iterate over arrays\n",
    "print(\"uso classico di iterare su array\")\n",
    "for row in integers:\n",
    "    for column in row:\n",
    "        print(column, end=' ')\n",
    "    print()\n",
    "print(\"sfrutto l'attributo flat\")\n",
    "\n",
    "for el in integers.flat:\n",
    "    print(el)\n",
    "    \n"
   ]
  },
  {
   "cell_type": "code",
   "execution_count": 10,
   "id": "1605431a",
   "metadata": {},
   "outputs": [
    {
     "data": {
      "text/plain": [
       "array([0., 0., 0., 0., 0.])"
      ]
     },
     "execution_count": 10,
     "metadata": {},
     "output_type": "execute_result"
    }
   ],
   "source": [
    "## filling up arrays. zeros, ones, full \n",
    "\n",
    "zeros_array = np.zeros(5)\n",
    "ones_array = np.ones((2, 4), dtype=int)\n",
    "full_array = np.full((3, 5), 13)\n",
    "\n",
    "zeros_array"
   ]
  },
  {
   "cell_type": "code",
   "execution_count": 11,
   "id": "5e1a4707",
   "metadata": {},
   "outputs": [
    {
     "data": {
      "text/plain": [
       "array([[1, 1, 1, 1],\n",
       "       [1, 1, 1, 1]])"
      ]
     },
     "execution_count": 11,
     "metadata": {},
     "output_type": "execute_result"
    }
   ],
   "source": [
    "ones_array"
   ]
  },
  {
   "cell_type": "code",
   "execution_count": 12,
   "id": "f6d46252",
   "metadata": {},
   "outputs": [
    {
     "data": {
      "text/plain": [
       "array([[13, 13, 13, 13, 13],\n",
       "       [13, 13, 13, 13, 13],\n",
       "       [13, 13, 13, 13, 13]])"
      ]
     },
     "execution_count": 12,
     "metadata": {},
     "output_type": "execute_result"
    }
   ],
   "source": [
    "full_array"
   ]
  },
  {
   "cell_type": "code",
   "execution_count": 17,
   "id": "78900e91",
   "metadata": {},
   "outputs": [
    {
     "data": {
      "text/plain": [
       "array([0, 1, 2, 3, 4])"
      ]
     },
     "execution_count": 17,
     "metadata": {},
     "output_type": "execute_result"
    }
   ],
   "source": [
    "## arange\n",
    "\n",
    "np.arange(5)"
   ]
  },
  {
   "cell_type": "code",
   "execution_count": 18,
   "id": "3271643c",
   "metadata": {},
   "outputs": [
    {
     "data": {
      "text/plain": [
       "array([5, 6, 7, 8, 9])"
      ]
     },
     "execution_count": 18,
     "metadata": {},
     "output_type": "execute_result"
    }
   ],
   "source": [
    "np.arange(5, 10)"
   ]
  },
  {
   "cell_type": "code",
   "execution_count": 19,
   "id": "1c5dc0ad",
   "metadata": {},
   "outputs": [
    {
     "data": {
      "text/plain": [
       "array([10,  8,  6,  4,  2])"
      ]
     },
     "execution_count": 19,
     "metadata": {},
     "output_type": "execute_result"
    }
   ],
   "source": [
    "np.arange(10, 1, -2)"
   ]
  },
  {
   "cell_type": "code",
   "execution_count": 20,
   "id": "a79a8620",
   "metadata": {},
   "outputs": [
    {
     "data": {
      "text/plain": [
       "array([0.        , 0.02040816, 0.04081633, 0.06122449, 0.08163265,\n",
       "       0.10204082, 0.12244898, 0.14285714, 0.16326531, 0.18367347,\n",
       "       0.20408163, 0.2244898 , 0.24489796, 0.26530612, 0.28571429,\n",
       "       0.30612245, 0.32653061, 0.34693878, 0.36734694, 0.3877551 ,\n",
       "       0.40816327, 0.42857143, 0.44897959, 0.46938776, 0.48979592,\n",
       "       0.51020408, 0.53061224, 0.55102041, 0.57142857, 0.59183673,\n",
       "       0.6122449 , 0.63265306, 0.65306122, 0.67346939, 0.69387755,\n",
       "       0.71428571, 0.73469388, 0.75510204, 0.7755102 , 0.79591837,\n",
       "       0.81632653, 0.83673469, 0.85714286, 0.87755102, 0.89795918,\n",
       "       0.91836735, 0.93877551, 0.95918367, 0.97959184, 1.        ])"
      ]
     },
     "execution_count": 20,
     "metadata": {},
     "output_type": "execute_result"
    }
   ],
   "source": [
    "## linspace\n",
    "np.linspace(0.0, 1.0)"
   ]
  },
  {
   "cell_type": "code",
   "execution_count": 21,
   "id": "19001899",
   "metadata": {},
   "outputs": [
    {
     "name": "stdout",
     "output_type": "stream",
     "text": [
      "before reshaping\n",
      " [ 1  2  3  4  5  6  7  8  9 10 11 12 13 14 15 16 17 18 19 20]\n",
      "after reshaping\n",
      " [[ 1  2  3  4  5]\n",
      " [ 6  7  8  9 10]\n",
      " [11 12 13 14 15]\n",
      " [16 17 18 19 20]]\n"
     ]
    }
   ],
   "source": [
    "## reshape\n",
    "\n",
    "array_to_reshape = np.arange(1, 21)\n",
    "print(\"before reshaping\\n\", array_to_reshape)\n",
    "array_to_reshape = array_to_reshape.reshape(4, 5)\n",
    "print(\"after reshaping\\n\", array_to_reshape)"
   ]
  },
  {
   "cell_type": "code",
   "execution_count": 22,
   "id": "c5d18378",
   "metadata": {},
   "outputs": [
    {
     "name": "stdout",
     "output_type": "stream",
     "text": [
      "[ 2  4  6  8 10]\n",
      "[  1   8  27  64 125]\n",
      "[ 1.1  4.4  9.9 17.6 27.5]\n",
      "[False False False False False]\n",
      "[False False False False False]\n",
      "[False False False False False]\n",
      "[ True  True  True  True  True]\n"
     ]
    }
   ],
   "source": [
    "## operators e array\n",
    "\n",
    "\n",
    "numbers = np.arange(1, 6)\n",
    "print(numbers * 2)\n",
    "print(numbers ** 3)\n",
    "\n",
    "numbers2 = np.linspace(1.1, 5.5, 5)\n",
    "print(numbers * numbers2)\n",
    "\n",
    "print(numbers >= 13)\n",
    "print(numbers2 < numbers)\n",
    "print(numbers == numbers2)\n",
    "print(numbers == numbers)\n",
    "\n",
    "\n",
    "\n"
   ]
  },
  {
   "cell_type": "code",
   "execution_count": 6,
   "id": "98f39cab",
   "metadata": {},
   "outputs": [
    {
     "name": "stdout",
     "output_type": "stream",
     "text": [
      "[[ 1  2  3  4  5]\n",
      " [ 6  7  8  9 10]\n",
      " [11 12 13 14 15]]\n",
      "a [ 6  7  8  9 10]\n",
      "b [[ 1  2  3  4  5]\n",
      " [11 12 13 14 15]]\n",
      "c [ 2  7 12]\n"
     ]
    }
   ],
   "source": [
    "\"\"\"\n",
    "Esercizio:\n",
    "Given the following array:\n",
    "array([[ 1, 2, 3, 4, 5], [6, 7, 8, 9,10],\n",
    "              [11, 12, 13, 14, 15]])\n",
    "write statements to perform the following tasks:\n",
    "a) Select the second row.\n",
    "b) Select the first and third rows.\n",
    "c) Select the middle three columns.\n",
    "\"\"\"\n",
    "\n",
    "import numpy as np\n",
    "a = np.arange(1, 16).reshape(3, 5)\n",
    "print(a)\n",
    "print(\"a\", a[1])\n",
    "print(\"b\", a[[0, 2]])\n",
    "print(\"c\", a[:, 1])\n"
   ]
  },
  {
   "cell_type": "code",
   "execution_count": 10,
   "id": "873a07ce",
   "metadata": {},
   "outputs": [
    {
     "name": "stdout",
     "output_type": "stream",
     "text": [
      "[[ 87  96  70]\n",
      " [100  87  90]]\n",
      "[[ 87  96  70]\n",
      " [100  87  90]]\n",
      "[[ 87  96  70 100  87  90]]\n",
      "[ 87  96  70 100  87  90]\n",
      "[[ 87  96  70 100  87  90]]\n",
      "[ 87  96  70 100  87  90]\n",
      "[[ 87]\n",
      " [ 96]\n",
      " [ 70]\n",
      " [100]\n",
      " [ 87]\n",
      " [ 90]]\n"
     ]
    }
   ],
   "source": [
    "### reshaping and transposing\n",
    "import numpy as np\n",
    "grades = np.array([[87, 96, 70], [100, 87, 90]])\n",
    "print(grades)\n",
    "\n",
    "grades.reshape(1, 6)\n",
    "print(grades)\n",
    "\n",
    "## resize modifica la forma iniziale dell'array\n",
    "grades.resize(1, 6)\n",
    "print(grades)\n",
    "\n",
    "## flatten, fa un copia profonda!\n",
    "flattened = grades.flatten()\n",
    "print(flattened)\n",
    "print(grades)\n",
    "\n",
    "## ravel, fa un vista (copia superficiale)\n",
    "raveled = grades.ravel()\n",
    "print(raveled)\n",
    "\n",
    "## trasposta\n",
    "print(grades.T)"
   ]
  }
 ],
 "metadata": {
  "kernelspec": {
   "display_name": "Python 3 (ipykernel)",
   "language": "python",
   "name": "python3"
  },
  "language_info": {
   "codemirror_mode": {
    "name": "ipython",
    "version": 3
   },
   "file_extension": ".py",
   "mimetype": "text/x-python",
   "name": "python",
   "nbconvert_exporter": "python",
   "pygments_lexer": "ipython3",
   "version": "3.9.7"
  }
 },
 "nbformat": 4,
 "nbformat_minor": 5
}
